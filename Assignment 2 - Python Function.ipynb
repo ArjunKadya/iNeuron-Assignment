{
 "cells": [
  {
   "cell_type": "markdown",
   "metadata": {},
   "source": [
    "## Problem Statement"
   ]
  },
  {
   "cell_type": "markdown",
   "metadata": {},
   "source": [
    "Q.1 Write a Python Program to implement your own myreduce() function which works exactly like\n",
    "Python's built-in function reduce()\n"
   ]
  },
  {
   "cell_type": "code",
   "execution_count": 15,
   "metadata": {},
   "outputs": [
    {
     "name": "stdout",
     "output_type": "stream",
     "text": [
      "Sum of all element in list a : 300\n",
      "Product of all elements in list a : 384000000\n"
     ]
    }
   ],
   "source": [
    "def myreduce(func,list): \n",
    "    x = list[0]\n",
    "    for i in range(1, len(list)):\n",
    "        x = func(x, list[i])\n",
    "    return x\n",
    "\n",
    "def summ(x1, x2):\n",
    "    return x1 + x2\n",
    "\n",
    "def Product(x1, x2):\n",
    "    return(x1 * x2)\n",
    "\n",
    "a = [20,40,60,80,100]\n",
    "\n",
    "print(\"Sum of all element in list a :\", myreduce(summ, a))\n",
    "print(\"Product of all elements in list a :\", myreduce(Product, a))"
   ]
  },
  {
   "cell_type": "markdown",
   "metadata": {},
   "source": [
    "Q.2 Write a Python program to implement your own myfilter() function which works exactly like\n",
    "Python's built-in function filter()"
   ]
  },
  {
   "cell_type": "code",
   "execution_count": 24,
   "metadata": {},
   "outputs": [
    {
     "name": "stdout",
     "output_type": "stream",
     "text": [
      "Filter only positive Integers on list [0,1,-2,3,4,5] using custom filter function[1, 3, 4, 5]\n"
     ]
    }
   ],
   "source": [
    "def myfilter(anyfunc,sequence):\n",
    "    result = []\n",
    "    for item in sequence:\n",
    "        if anyfunc(item):\n",
    "            result.append(item)\n",
    "    return result\n",
    "\n",
    "# test myreduce function\n",
    "def sum(x,y): return x + y\n",
    "\n",
    "# test myfilter function\n",
    "def ispositive(x):\n",
    "    if (x <= 0): \n",
    "        return False \n",
    "    else: \n",
    "        return True\n",
    "\n",
    "print (\"Filter only positive Integers on list [0,1,-2,3,4,5] using custom filter function\"  + str(myfilter(ispositive, [0,1,-2,3,4,5])))"
   ]
  },
  {
   "cell_type": "markdown",
   "metadata": {},
   "source": [
    "Q.3 Implement List comprehensions to produce the following lists.\n",
    "   Write List comprehensions to produce the following Lists\n",
    "   \n",
    "    ['A', 'C', 'A', 'D', 'G', 'I', ’L’, ‘ D’]\n",
    "   \n",
    "    ['x', 'xx', 'xxx', 'xxxx', 'y', 'yy', 'yyy', 'yyyy', 'z', 'zz', 'zzz', 'zzzz']\n",
    "\n",
    "    ['x', 'y', 'z', 'xx', 'yy', 'zz', 'xx', 'yy', 'zz', 'xxxx', 'yyyy', 'zzzz']\n",
    "    \n",
    "    [[2], [3], [4], [3], [4], [5], [4], [5], [6]]\n",
    "\n",
    "    [[2, 3, 4, 5], [3, 4, 5, 6], [4, 5, 6, 7], [5, 6, 7, 8]]\n",
    "\n",
    "    [(1, 1), (2, 1), (3, 1), (1, 2), (2, 2), (3, 2), (1, 3), (2, 3), (3, 3)]"
   ]
  },
  {
   "cell_type": "code",
   "execution_count": 25,
   "metadata": {},
   "outputs": [
    {
     "name": "stdout",
     "output_type": "stream",
     "text": [
      "Google => ['G', 'o', 'o', 'g', 'l', 'e']\n",
      "['x','y','z'] => ['x', 'xx', 'xxx', 'xxxx', 'y', 'yy', 'yyy', 'yyyy', 'z', 'zz', 'zzz', 'zzzz']\n",
      "['x','y','z'] => ['x', 'y', 'z', 'xx', 'yy', 'zz', 'xxx', 'yyy', 'zzz', 'xxxx', 'yyyy', 'zzzz']\n",
      "[2,3,4] =>[[2], [3], [4], [3], [4], [5], [4], [5], [6]]\n",
      "[2,3,4,5] =>[[2, 3, 4, 5], [3, 4, 5, 6], [4, 5, 6, 7], [5, 6, 7, 8]]\n",
      "[1,2,3] =>[(1, 1), (2, 1), (3, 1), (1, 2), (2, 2), (3, 2), (1, 3), (2, 3), (3, 3)]\n"
     ]
    }
   ],
   "source": [
    "word = \"Google\"\n",
    "alphabet_list = [ alphabet for alphabet in word ]\n",
    "print (\"Google => \" + str(alphabet_list))\n",
    "\n",
    "# Compress above for loop into a single list comprehension using technique [i <Upper for condition> <lower for condition>]\n",
    "input_list = ['x','y','z']\n",
    "result = [ item*num for item in input_list for num in range(1,5)  ]\n",
    "print(\"['x','y','z'] => \" +   str(result))\n",
    "\n",
    "# Compress above for loop into a single list comprehension using technique [i <Upper for condition> <lower for condition>]\n",
    "input_list = ['x','y','z']\n",
    "result = [ item*num for num in range(1,5) for item in input_list  ]\n",
    "print(\"['x','y','z'] => \" +   str(result))\n",
    "\n",
    "input_list = [2,3,4]\n",
    "result = [ [item+num] for item in input_list for num in range(0,3)]\n",
    "print(\"[2,3,4] =>\" +  str(result))\n",
    "\n",
    "input_list = [2,3,4,5]\n",
    "result = [ [item+num for item in input_list] for num in range(0,4)  ]\n",
    "print(\"[2,3,4,5] =>\" +  str(result))\n",
    "\n",
    "input_list=[1,2,3]\n",
    "result = [ (b,a) for a in input_list for b in input_list]\n",
    "print(\"[1,2,3] =>\" +  str(result))"
   ]
  },
  {
   "cell_type": "markdown",
   "metadata": {},
   "source": [
    "Q.4 Implement a function longestWord() that takes a list of words and returns the longest one."
   ]
  },
  {
   "cell_type": "code",
   "execution_count": 29,
   "metadata": {},
   "outputs": [
    {
     "name": "stdout",
     "output_type": "stream",
     "text": [
      "Longest word in array [\"This\",\"is\",\"a\",\"beautiful\",\"morning\"] => Anaconda\n"
     ]
    }
   ],
   "source": [
    "from functools import reduce\n",
    "list_words = [\"There\",\"is\",\"a\",\"Great\",\"Anaconda\"]\n",
    "\n",
    "# Function to compare and reduce list to the result\n",
    "def longestWord(list_words):\n",
    "    return reduce( (lambda x,y:y if len(y) > len(x) else x), list_words )\n",
    "\n",
    "print ('Longest word in array [\"This\",\"is\",\"a\",\"beautiful\",\"morning\"] => ' + longestWord(list_words) )"
   ]
  },
  {
   "cell_type": "markdown",
   "metadata": {},
   "source": [
    "Q.5 Write a Python Program(with class concepts) to find the area of the triangle using the below\n",
    "formula.\n",
    "\n",
    "area = (s*(s-a)*(s-b)*(s-c)) ** 0.5\n",
    "\n",
    "Function to take the length of the sides of triangle from user should be defined in the parent\n",
    "class and function to calculate the area should be defined in subclass."
   ]
  },
  {
   "cell_type": "code",
   "execution_count": 27,
   "metadata": {},
   "outputs": [
    {
     "name": "stdout",
     "output_type": "stream",
     "text": [
      "Please Enter the First side of a Triangle: 80\n",
      "Please Enter the Second side of a Triangle: 90\n",
      "Please Enter the Third side of a Triangle: 111\n",
      "The Area of a Triangle is 3558.55\n"
     ]
    }
   ],
   "source": [
    "a = float(input('Please Enter the First side of a Triangle: '))\n",
    "b = float(input('Please Enter the Second side of a Triangle: '))\n",
    "c = float(input('Please Enter the Third side of a Triangle: '))\n",
    " \n",
    "# calculate the semi-perimeter\n",
    "s = (a + b + c) / 2\n",
    " \n",
    "# calculate the area\n",
    "Area = (s*(s-a)*(s-b)*(s-c)) ** 0.5\n",
    " \n",
    "print(\"The Area of a Triangle is %0.2f\" %Area)"
   ]
  },
  {
   "cell_type": "markdown",
   "metadata": {},
   "source": [
    "Q.6 Write a function filter_long_words() that takes a list of words and an integer n and returns the list\n",
    "of words that are longer than n."
   ]
  },
  {
   "cell_type": "code",
   "execution_count": 28,
   "metadata": {},
   "outputs": [
    {
     "name": "stdout",
     "output_type": "stream",
     "text": [
      "['This', 'biggest', 'challenge', 'universe', 'that', 'world', 'machines.']\n"
     ]
    }
   ],
   "source": [
    "def long_words(n, str):  \n",
    "    word_len = []  \n",
    "    txt = str.split(\" \")  \n",
    "    for x in txt:  \n",
    "        if len(x) > n:  \n",
    "            word_len.append(x)  \n",
    "    return word_len   \n",
    "print(long_words(3, \"This is the biggest challenge of universe that world is run by AI machines.\"))"
   ]
  },
  {
   "cell_type": "markdown",
   "metadata": {},
   "source": [
    "Q.7 Write a Python program using function concept that maps list of words into a list of integers\n",
    "representing the lengths of the corresponding words.\n",
    "    \n",
    "    Hint: If a list [ ab,cde,erty] is passed on to the python function output should come as [2,3,4]\n",
    "    Here 2,3 and 4 are the lengths of the words in the list."
   ]
  },
  {
   "cell_type": "code",
   "execution_count": 30,
   "metadata": {},
   "outputs": [
    {
     "name": "stdout",
     "output_type": "stream",
     "text": [
      "List of words:['ab', 'cde', 'erty']\n",
      "List of wordlength:[2, 3, 4]\n"
     ]
    }
   ],
   "source": [
    "listOfWords = ['ab','cde','erty']\n",
    " \n",
    "listOfInts = []\n",
    " \n",
    "for i in range(len(listOfWords)):\n",
    "    listOfInts.append(len(listOfWords[i]))\n",
    "\n",
    "print (\"List of words:\"+str(listOfWords))    \n",
    "print (\"List of wordlength:\"+str(listOfInts))"
   ]
  },
  {
   "cell_type": "markdown",
   "metadata": {},
   "source": [
    "Q.8 Write a Python function which takes a character (i.e. a string of length 1) and returns True if it is\n",
    "a vowel, False otherwise."
   ]
  },
  {
   "cell_type": "code",
   "execution_count": 32,
   "metadata": {},
   "outputs": [
    {
     "name": "stdout",
     "output_type": "stream",
     "text": [
      "False\n",
      "True\n"
     ]
    }
   ],
   "source": [
    "def is_vowel(char):\n",
    "    all_vowels = 'aeiou'\n",
    "    return char in all_vowels\n",
    "print(is_vowel('c'))\n",
    "print(is_vowel('e'))"
   ]
  },
  {
   "cell_type": "markdown",
   "metadata": {},
   "source": [
    "## Great job!"
   ]
  }
 ],
 "metadata": {
  "kernelspec": {
   "display_name": "Python 3",
   "language": "python",
   "name": "python3"
  },
  "language_info": {
   "codemirror_mode": {
    "name": "ipython",
    "version": 3
   },
   "file_extension": ".py",
   "mimetype": "text/x-python",
   "name": "python",
   "nbconvert_exporter": "python",
   "pygments_lexer": "ipython3",
   "version": "3.8.1"
  },
  "toc": {
   "base_numbering": 1,
   "nav_menu": {},
   "number_sections": true,
   "sideBar": true,
   "skip_h1_title": false,
   "title_cell": "Table of Contents",
   "title_sidebar": "Contents",
   "toc_cell": false,
   "toc_position": {},
   "toc_section_display": true,
   "toc_window_display": false
  },
  "varInspector": {
   "cols": {
    "lenName": 16,
    "lenType": 16,
    "lenVar": 40
   },
   "kernels_config": {
    "python": {
     "delete_cmd_postfix": "",
     "delete_cmd_prefix": "del ",
     "library": "var_list.py",
     "varRefreshCmd": "print(var_dic_list())"
    },
    "r": {
     "delete_cmd_postfix": ") ",
     "delete_cmd_prefix": "rm(",
     "library": "var_list.r",
     "varRefreshCmd": "cat(var_dic_list()) "
    }
   },
   "types_to_exclude": [
    "module",
    "function",
    "builtin_function_or_method",
    "instance",
    "_Feature"
   ],
   "window_display": false
  }
 },
 "nbformat": 4,
 "nbformat_minor": 2
}
